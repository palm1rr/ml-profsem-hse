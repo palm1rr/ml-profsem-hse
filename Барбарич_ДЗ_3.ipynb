{
  "nbformat": 4,
  "nbformat_minor": 0,
  "metadata": {
    "colab": {
      "private_outputs": true,
      "provenance": [],
      "authorship_tag": "ABX9TyOlrHYtimD160GQpbMAJtnK"
    },
    "kernelspec": {
      "name": "python3",
      "display_name": "Python 3"
    },
    "language_info": {
      "name": "python"
    }
  },
  "cells": [
    {
      "cell_type": "markdown",
      "source": [
        "# Первая часть задания - предобработка другого [датасета](https://www.kaggle.com/datasets/nehalbirla/vehicle-dataset-from-cardekho)"
      ],
      "metadata": {
        "id": "hZAAoES8w0JB"
      }
    },
    {
      "cell_type": "markdown",
      "source": [
        "в архиве 4 файла с похожими датасета, отличаются сложность предобработки (больше признаков, столбцов) и кол-вом строк, выбрал самый сложный на мой взгляд датасет."
      ],
      "metadata": {
        "id": "0iN78v6JyOkE"
      }
    },
    {
      "cell_type": "code",
      "source": [
        "import numpy as np\n",
        "import matplotlib.pyplot as plt\n",
        "import pandas as pd\n",
        "import seaborn as sns\n",
        "from sklearn.model_selection import train_test_split\n",
        "from sklearn.metrics import mean_absolute_error, mean_squared_error\n",
        "from sklearn.linear_model import LinearRegression\n",
        "from sklearn.preprocessing import StandardScaler"
      ],
      "metadata": {
        "id": "OpDkJTBBVJOD"
      },
      "execution_count": null,
      "outputs": []
    },
    {
      "cell_type": "code",
      "source": [
        "df = pd.read_csv('https://drive.google.com/uc?id=17qBgxWuH-lgDuLrr3ih1BmIrW1rE3Cpv')\n",
        "df\n"
      ],
      "metadata": {
        "id": "L8sY__zk4IpS"
      },
      "execution_count": null,
      "outputs": []
    },
    {
      "cell_type": "code",
      "source": [
        "print(df.shape)\n",
        "print(df.dtypes)"
      ],
      "metadata": {
        "id": "WZRUPuXz40Ne"
      },
      "execution_count": null,
      "outputs": []
    },
    {
      "cell_type": "code",
      "source": [
        "    df.info()"
      ],
      "metadata": {
        "id": "7YshAaPhV-Q2"
      },
      "execution_count": null,
      "outputs": []
    },
    {
      "cell_type": "code",
      "source": [
        "df.describe()"
      ],
      "metadata": {
        "id": "JFFkoLI7x7s2"
      },
      "execution_count": null,
      "outputs": []
    },
    {
      "cell_type": "markdown",
      "source": [
        "## Предобработка\n"
      ],
      "metadata": {
        "id": "_SXzX7gfyEma"
      }
    },
    {
      "cell_type": "code",
      "source": [
        "df.dropna(inplace=True)\n",
        "df = df.drop_duplicates()\n",
        "df"
      ],
      "metadata": {
        "id": "izatxbJex-kn"
      },
      "execution_count": null,
      "outputs": []
    },
    {
      "cell_type": "markdown",
      "source": [
        "только в одном месте сделал нормирование, т.к. для линейной регрессии она особо не нужна, просто показать и такую вещь:)\n"
      ],
      "metadata": {
        "id": "Q8A5SeRUy9pJ"
      }
    },
    {
      "cell_type": "code",
      "source": [
        "df['year'] = (df['year'] - df['year'].min()) / (df['year'].max() - df['year'].min()) # нормирование соот.\n",
        "mapping0 = {value: index for index, value in enumerate(df['fuel'].unique())}\n",
        "df['fuel'] = df['fuel'].map(mapping0)\n",
        "mapping1 = {value: index for index, value in enumerate(df['seller_type'].unique())}\n",
        "df['seller_type'] = df['seller_type'].map(mapping1)\n",
        "mapping2 = {value: index for index, value in enumerate(df['transmission'].unique())}\n",
        "df['transmission'] = df['transmission'].map(mapping2)"
      ],
      "metadata": {
        "id": "EcXmP5bvXEry"
      },
      "execution_count": null,
      "outputs": []
    },
    {
      "cell_type": "code",
      "source": [
        "owner_mapping = {'First': 1,\n",
        "                'Second': 2,\n",
        "                'Third': 3,\n",
        "                'Fourth': 4}\n",
        "def replace_owner(owner):\n",
        "    for key, value in owner_mapping.items():\n",
        "        if key in owner:\n",
        "            return value\n",
        "    return None\n",
        "df['owner'] = df['owner'].apply(replace_owner)"
      ],
      "metadata": {
        "id": "zaqLS1FKcG7E"
      },
      "execution_count": null,
      "outputs": []
    },
    {
      "cell_type": "code",
      "source": [
        "def first_part(mileage):\n",
        "    return str(mileage).split()[0]\n",
        "name = df['name']\n",
        "df['name'] = df['name'].apply(first_part)\n",
        "mapping4 = {value: index for index, value in enumerate(df['name'].unique())}\n",
        "df['name'] = df['name'].map(mapping4)\n",
        "df['mileage'] = df['mileage'].apply(first_part).astype(float)\n",
        "df['engine'] = df['engine'].apply(first_part).astype(float)\n",
        "df['max_power'] = df['max_power'].apply(first_part).astype(float)\n",
        "df = df.drop(['torque'], axis = 1)\n",
        "\n",
        "\n",
        "df"
      ],
      "metadata": {
        "id": "ICmNdk1RcKjo"
      },
      "execution_count": null,
      "outputs": []
    },
    {
      "cell_type": "markdown",
      "source": [
        "здесь была попытка разбить столбец torque на два других с двумя соот. значениями, но моя реализация не совсем получилась из-за того, что в ячейке столбца может существовать 3 слова (реализовано только для 2х), пробелы в случайных местах, поэтому я отбросил этот признак (1 ячейка ниже просто существует)"
      ],
      "metadata": {
        "id": "jqbqYAoGznfD"
      }
    },
    {
      "cell_type": "code",
      "source": [
        "#def first_numb(parts):\n",
        "    #for i in range(len(parts) - 1, -1, -1):\n",
        "        #if parts[i].isdigit() != 1:\n",
        "            #continue\n",
        "        #else:\n",
        "            #return parts[0:i + 1]\n",
        "\n",
        "# Создаем функцию для обработки значений в ячейке\n",
        "#def process_torque(torque):\n",
        "    # Разделяем строку на части по пробелу\n",
        "    #parts = torque.split()\n",
        "\n",
        "    #first_num = first_numb(parts[0])\n",
        "    # Извлекаем второе число или вычисляем среднее, если есть диапазон\n",
        "    #if '-' in parts[1]:\n",
        "        #parts = first_numb(parts[1])\n",
        "        #num1, num2 = parts.split('-')\n",
        "        #second_num = (int(num1) + int(num2)) / 2\n",
        "    #else:\n",
        "        #second_num = first_numb(parts[1])\n",
        "\n",
        "    #return first_num, second_num\n",
        "# Применяем функцию для обработки значений в колонке 'torque'\n",
        "#df[['torque1', 'torque2']] = df['torque'].apply(process_torque)\n",
        "#df"
      ],
      "metadata": {
        "id": "XCr_Ydgggfpq"
      },
      "execution_count": null,
      "outputs": []
    },
    {
      "cell_type": "code",
      "source": [
        "df.info()"
      ],
      "metadata": {
        "id": "drjlOSj5eJAg"
      },
      "execution_count": null,
      "outputs": []
    },
    {
      "cell_type": "code",
      "source": [
        "df.dropna(inplace=True)\n",
        "df"
      ],
      "metadata": {
        "id": "HyMZzMte4ImJ"
      },
      "execution_count": null,
      "outputs": []
    },
    {
      "cell_type": "markdown",
      "source": [
        "## Линейная регрессия"
      ],
      "metadata": {
        "id": "hI89Lhn60PgP"
      }
    },
    {
      "cell_type": "code",
      "source": [
        "Y = df['selling_price']\n",
        "X = df.drop(['selling_price'], axis = 1)\n",
        "X['abs term'] = [1 for i in range(len(df))]\n",
        "X_train, X_test, Y_train, Y_test = train_test_split(X, Y, test_size=0.2, random_state=100)\n",
        "X_train"
      ],
      "metadata": {
        "id": "sqjvJ4mi4IWM"
      },
      "execution_count": null,
      "outputs": []
    },
    {
      "cell_type": "code",
      "source": [
        "A = X_train.values\n",
        "A = np.matrix(A)\n",
        "A_plus = np.linalg.inv((A.T @ A)) @ A.T\n",
        "print('Псевдообратная матрица:\\n', A_plus, '\\n')\n",
        "X = A_plus @ Y_train\n",
        "print('Коэффициенты линейной регресии:\\n', X)"
      ],
      "metadata": {
        "id": "IoJkXH2TYQR8"
      },
      "execution_count": null,
      "outputs": []
    },
    {
      "cell_type": "code",
      "source": [
        "pred = X_test @ X.T\n",
        "compare = pd.DataFrame({'fare':Y_test,'predictions':pred})\n",
        "compare"
      ],
      "metadata": {
        "id": "K_YM_D_LYSEp"
      },
      "execution_count": null,
      "outputs": []
    },
    {
      "cell_type": "code",
      "source": [
        "print('MAE = ', mean_absolute_error(Y_test,pred))\n",
        "print('MSE = ', mean_squared_error(Y_test,pred))"
      ],
      "metadata": {
        "id": "LxCXxYYtX_8j"
      },
      "execution_count": null,
      "outputs": []
    },
    {
      "cell_type": "code",
      "source": [
        "plt.figure(figsize=(16, 6))\n",
        "plt.xlabel('Comparison between Real and Predicted values ')\n",
        "sns.kdeplot(compare['fare'], fill=True, color='blue')\n",
        "sns.kdeplot(compare['predictions'], color='red', fill=True)\n",
        "plt.legend(labels = ['fare','predicted'])\n",
        "plt.show()"
      ],
      "metadata": {
        "id": "ceXLG6jAYdV2"
      },
      "execution_count": null,
      "outputs": []
    },
    {
      "cell_type": "markdown",
      "source": [
        "# Вторая часть - полная реализация предсказания цен на такси [(датасет)](https://www.kaggle.com/datasets/raviiloveyou/predict-taxi-fare-with-a-bigquery-ml-forecasting) при помощи линейной регрессии и псевдообратной матрицы"
      ],
      "metadata": {
        "id": "Mr_AepGT0Z1C"
      }
    },
    {
      "cell_type": "code",
      "source": [
        "# т.к. датасет был уже разделен, а нас это не устраивает, то склеим два датасета\n",
        "df = pd.read_csv('https://drive.google.com/uc?id=1LGVvuaeCq10xqn2xyKELooSiYKrYg2hW')\n",
        "dff = pd.read_csv('https://drive.google.com/uc?id=1adTgj6Yh8eHvMgj5i3DZNE3i2v5b5CUl')\n",
        "df = pd.concat([df, dff])\n",
        "df"
      ],
      "metadata": {
        "id": "7yTxGqOtU9Ik"
      },
      "execution_count": null,
      "outputs": []
    },
    {
      "cell_type": "code",
      "source": [
        "print(df.shape)\n",
        "print(df.dtypes)"
      ],
      "metadata": {
        "id": "b_Pksarr4vxa"
      },
      "execution_count": null,
      "outputs": []
    },
    {
      "cell_type": "markdown",
      "source": [
        "## Предобработка"
      ],
      "metadata": {
        "id": "-AoQYsm21Eq0"
      }
    },
    {
      "cell_type": "code",
      "source": [
        "df = df.drop_duplicates() # убрали дубликаты\n",
        "df"
      ],
      "metadata": {
        "id": "DUok2C2JYVSs"
      },
      "execution_count": null,
      "outputs": []
    },
    {
      "cell_type": "code",
      "source": [
        "selected_columns = ['trip_duration', 'distance_traveled', 'num_of_passengers', 'fare', 'total_fare']\n",
        "df = df[(df[selected_columns] > 0).all(axis=1)] # убрали нули, где они быть не могут\n",
        "df"
      ],
      "metadata": {
        "id": "eShu3pgqrSFW"
      },
      "execution_count": null,
      "outputs": []
    },
    {
      "cell_type": "code",
      "source": [
        "df = df[~((df['trip_duration'] > 36000) & (df['distance_traveled'] < 10))]\n",
        "df = df[(df['trip_duration'] < 72000)]\n",
        "df = df[(df['distance_traveled'] < 1000)]\n",
        "df = df[(df['tip'] < 500)]\n",
        "# df = df[(df['num_of_passengers'] < 5)]\n",
        "\n",
        "df"
      ],
      "metadata": {
        "id": "3jmLucLBtru_"
      },
      "execution_count": null,
      "outputs": []
    },
    {
      "cell_type": "markdown",
      "source": [
        "X - DataFrame с замененным столбцом, который мы хотим предсказать, на столбец, который в будущем будет отвечать за свободный коэфициент линейной регрессии\n",
        "\n",
        "Y - столбец, который мы хотим предсказать"
      ],
      "metadata": {
        "id": "UohGOvFk3dPl"
      }
    },
    {
      "cell_type": "code",
      "source": [
        "Y = df['total_fare']\n",
        "X = df.drop(['total_fare', 'fare'], axis = 1)\n",
        "X['abs term'] = [1 for i in range(len(df))]\n",
        "X"
      ],
      "metadata": {
        "id": "e-q7MAKLYZBe"
      },
      "execution_count": null,
      "outputs": []
    },
    {
      "cell_type": "code",
      "source": [
        "X_train, X_test, Y_train, Y_test = train_test_split(X, Y, test_size=0.2, random_state=100)\n",
        "X_train"
      ],
      "metadata": {
        "id": "2geUY7Luo6cy"
      },
      "execution_count": null,
      "outputs": []
    },
    {
      "cell_type": "code",
      "source": [
        "A = X_train.values\n",
        "A = np.matrix(A)\n",
        "A_plus = np.linalg.inv((A.T @ A)) @ A.T\n",
        "print('Псевдообратная матрица:\\n', A_plus, '\\n')\n",
        "X = A_plus @ Y_train\n",
        "print('Коэффициенты линейной регресии:\\n', X)"
      ],
      "metadata": {
        "id": "E22so-1YpCDh"
      },
      "execution_count": null,
      "outputs": []
    },
    {
      "cell_type": "code",
      "source": [
        "pred = X_test @ X.T\n",
        "compare = pd.DataFrame({'fare':Y_test,'predictions':pred})\n",
        "compare"
      ],
      "metadata": {
        "id": "ceYQ00gMpX0g"
      },
      "execution_count": null,
      "outputs": []
    },
    {
      "cell_type": "code",
      "source": [
        "print('MAE = ', mean_absolute_error(Y_test,pred))\n",
        "print('MSE = ', mean_squared_error(Y_test,pred))"
      ],
      "metadata": {
        "id": "RPlXWkfUpm2l"
      },
      "execution_count": null,
      "outputs": []
    },
    {
      "cell_type": "code",
      "source": [
        "plt.figure(figsize=(16, 6))\n",
        "plt.xlabel('Comparison between Real and Predicted values ')\n",
        "sns.kdeplot(compare['fare'], fill=True, color='blue')\n",
        "sns.kdeplot(compare['predictions'], color='red', fill=True)\n",
        "plt.legend(labels = ['fare','predicted'])\n",
        "plt.show()"
      ],
      "metadata": {
        "id": "D8uRFbsv3BMK"
      },
      "execution_count": null,
      "outputs": []
    },
    {
      "cell_type": "code",
      "source": [
        "lr = LinearRegression()\n",
        "lr.fit(X_train,Y_train)\n",
        "pred = lr.predict(X_test)\n",
        "compare = pd.DataFrame({'Performance Index':Y_test,'Predictions':pred})\n",
        "compare"
      ],
      "metadata": {
        "id": "VAcmmkDL2Yt-"
      },
      "execution_count": null,
      "outputs": []
    },
    {
      "cell_type": "code",
      "source": [
        "print('MAE = ', mean_absolute_error(Y_test,pred))\n",
        "print('MSE = ', mean_squared_error(Y_test,pred))"
      ],
      "metadata": {
        "id": "c7V0E16i2bJh"
      },
      "execution_count": null,
      "outputs": []
    },
    {
      "cell_type": "markdown",
      "source": [
        "Сошлось с готовй Lr ура!\n"
      ],
      "metadata": {
        "id": "9pIt0sNV22w6"
      }
    }
  ]
}